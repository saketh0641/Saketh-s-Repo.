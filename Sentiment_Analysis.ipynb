{
  "nbformat": 4,
  "nbformat_minor": 0,
  "metadata": {
    "colab": {
      "provenance": [],
      "authorship_tag": "ABX9TyMlH3dOU5QL+7IK6sIhKhNn",
      "include_colab_link": true
    },
    "kernelspec": {
      "name": "python3",
      "display_name": "Python 3"
    },
    "language_info": {
      "name": "python"
    }
  },
  "cells": [
    {
      "cell_type": "markdown",
      "metadata": {
        "id": "view-in-github",
        "colab_type": "text"
      },
      "source": [
        "<a href=\"https://colab.research.google.com/github/saketh0641/Saketh-s-Repo./blob/main/Sentiment_Analysis.ipynb\" target=\"_parent\"><img src=\"https://colab.research.google.com/assets/colab-badge.svg\" alt=\"Open In Colab\"/></a>"
      ]
    },
    {
      "cell_type": "code",
      "source": [
        "from textblob import TextBlob\n",
        "\n",
        "def perform_sentiment_analysis(text):\n",
        "    # Create a TextBlob object\n",
        "    blob = TextBlob(text)\n",
        "\n",
        "    # Get the sentiment polarity\n",
        "    polarity = blob.sentiment.polarity\n",
        "\n",
        "    # Determine if the sentiment is positive, negative, or neutral\n",
        "    if polarity > 0:\n",
        "        sentiment = 'Positive'\n",
        "    elif polarity < 0:\n",
        "        sentiment = 'Negative'\n",
        "    else:\n",
        "        sentiment = 'Neutral'\n",
        "\n",
        "    return sentiment, polarity\n",
        "\n",
        "# Test the function with an example text\n",
        "text = \"I love this product, it's amazing!\"\n",
        "sentiment, polarity = perform_sentiment_analysis(text)\n",
        "\n",
        "# Display the result\n",
        "print(f\"Sentiment: {sentiment}\")\n",
        "print(f\"Polarity: {polarity}\")\n"
      ],
      "metadata": {
        "colab": {
          "base_uri": "https://localhost:8080/"
        },
        "id": "trNctt5DbH8h",
        "outputId": "1d5f30c0-c074-4168-bccf-1dabaf5bffda"
      },
      "execution_count": 12,
      "outputs": [
        {
          "output_type": "stream",
          "name": "stdout",
          "text": [
            "Sentiment: Positive\n",
            "Polarity: 0.625\n"
          ]
        }
      ]
    },
    {
      "cell_type": "code",
      "source": [],
      "metadata": {
        "id": "VE5Q49bJbenG"
      },
      "execution_count": null,
      "outputs": []
    }
  ]
}