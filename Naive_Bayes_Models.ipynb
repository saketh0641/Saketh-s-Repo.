{
  "nbformat": 4,
  "nbformat_minor": 0,
  "metadata": {
    "colab": {
      "provenance": [],
      "authorship_tag": "ABX9TyNAKu8Hf7myN6e7Djg947LK",
      "include_colab_link": true
    },
    "kernelspec": {
      "name": "python3",
      "display_name": "Python 3"
    },
    "language_info": {
      "name": "python"
    }
  },
  "cells": [
    {
      "cell_type": "markdown",
      "metadata": {
        "id": "view-in-github",
        "colab_type": "text"
      },
      "source": [
        "<a href=\"https://colab.research.google.com/github/saketh0641/Saketh-s-Repo./blob/main/Naive_Bayes_Models.ipynb\" target=\"_parent\"><img src=\"https://colab.research.google.com/assets/colab-badge.svg\" alt=\"Open In Colab\"/></a>"
      ]
    },
    {
      "cell_type": "code",
      "source": [
        "from sklearn.feature_extraction.text import CountVectorizer\n",
        "from sklearn.naive_bayes import MultinomialNB\n",
        "from sklearn.model_selection import train_test_split\n",
        "\n",
        "# Sample data (text and corresponding labels)\n",
        "texts = [\n",
        "    \"I love programming\",\n",
        "    \"Python is great\",\n",
        "    \"Machine learning is amazing\",\n",
        "    \"I enjoy coding\",\n",
        "    \"Artificial intelligence is the future\",\n",
        "    \"I love solving problems with Python\"\n",
        "]\n",
        "\n",
        "# Corresponding categories (labels)\n",
        "labels = ['positive', 'positive', 'positive', 'positive', 'positive', 'positive']\n",
        "\n",
        "# Convert the text data into numerical features using CountVectorizer (Bag of Words model)\n",
        "vectorizer = CountVectorizer()\n",
        "X = vectorizer.fit_transform(texts)\n",
        "\n",
        "# Train-test split (we'll use all the data for training in this simple example)\n",
        "X_train, X_test, y_train, y_test = train_test_split(X, labels, test_size=0.2, random_state=42)\n",
        "\n",
        "# Create and train the Naïve Bayes classifier (MultinomialNB)\n",
        "classifier = MultinomialNB()\n",
        "classifier.fit(X_train, y_train)\n",
        "\n",
        "# Predict the category of a new text\n",
        "new_text = [\"I love programming with Python\"]\n",
        "new_text_vectorized = vectorizer.transform(new_text)  # Vectorize the new text\n",
        "predicted_category = classifier.predict(new_text_vectorized)\n",
        "\n",
        "# Display the predicted category\n",
        "print(f\"Predicted category for '{new_text[0]}': {predicted_category[0]}\")\n"
      ],
      "metadata": {
        "colab": {
          "base_uri": "https://localhost:8080/"
        },
        "id": "3Xo-wevDcX2l",
        "outputId": "b27e7933-fa87-4b9b-ea5a-fbd04c198931"
      },
      "execution_count": 15,
      "outputs": [
        {
          "output_type": "stream",
          "name": "stdout",
          "text": [
            "Predicted category for 'I love programming with Python': positive\n"
          ]
        }
      ]
    },
    {
      "cell_type": "code",
      "source": [],
      "metadata": {
        "id": "1tUrDWYncrX5"
      },
      "execution_count": null,
      "outputs": []
    }
  ]
}