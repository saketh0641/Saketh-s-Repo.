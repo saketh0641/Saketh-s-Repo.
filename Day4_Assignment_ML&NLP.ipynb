{
 "cells": [
  {
   "cell_type": "code",
   "execution_count": 1,
   "id": "e27a85c5-41a2-43fe-9aec-4e38f6f536bd",
   "metadata": {},
   "outputs": [
    {
     "name": "stdin",
     "output_type": "stream",
     "text": [
      "Enter a positive integer:  25\n"
     ]
    },
    {
     "name": "stdout",
     "output_type": "stream",
     "text": [
      "The sum of all even numbers between 1 and 25 is: 156\n"
     ]
    }
   ],
   "source": [
    "# Taking input for the value of n\n",
    "n = int(input(\"Enter a positive integer: \"))\n",
    "\n",
    "# Initializing the sum variable\n",
    "sum_even = 0\n",
    "\n",
    "# Looping through numbers from 1 to n\n",
    "for i in range(2, n + 1, 2):  # Start from 2, step by 2 to get only even numbers\n",
    "    sum_even += i\n",
    "\n",
    "# Printing the sum of even numbers\n",
    "print(f\"The sum of all even numbers between 1 and {n} is: {sum_even}\")\n"
   ]
  },
  {
   "cell_type": "code",
   "execution_count": null,
   "id": "f11ec2e0-aa2b-4d7b-9d7e-d5002028cef8",
   "metadata": {},
   "outputs": [],
   "source": []
  }
 ],
 "metadata": {
  "kernelspec": {
   "display_name": "Python [conda env:base] *",
   "language": "python",
   "name": "conda-base-py"
  },
  "language_info": {
   "codemirror_mode": {
    "name": "ipython",
    "version": 3
   },
   "file_extension": ".py",
   "mimetype": "text/x-python",
   "name": "python",
   "nbconvert_exporter": "python",
   "pygments_lexer": "ipython3",
   "version": "3.12.7"
  }
 },
 "nbformat": 4,
 "nbformat_minor": 5
}
