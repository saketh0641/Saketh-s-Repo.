{
  "nbformat": 4,
  "nbformat_minor": 0,
  "metadata": {
    "colab": {
      "provenance": [],
      "authorship_tag": "ABX9TyPDg6JbdqCvevDVe23PihMB",
      "include_colab_link": true
    },
    "kernelspec": {
      "name": "python3",
      "display_name": "Python 3"
    },
    "language_info": {
      "name": "python"
    }
  },
  "cells": [
    {
      "cell_type": "markdown",
      "metadata": {
        "id": "view-in-github",
        "colab_type": "text"
      },
      "source": [
        "<a href=\"https://colab.research.google.com/github/saketh0641/Saketh-s-Repo./blob/main/day7.ipynb\" target=\"_parent\"><img src=\"https://colab.research.google.com/assets/colab-badge.svg\" alt=\"Open In Colab\"/></a>"
      ]
    },
    {
      "cell_type": "code",
      "source": [
        "import nltk\n",
        "import spacy\n",
        "\n",
        "# Download NLTK resources\n",
        "nltk.download('punkt')\n",
        "nltk.download('stopwords')\n",
        "nltk.download('punkt_tab') # Download punkt_tab\n",
        "\n",
        "# Load spaCy's English language model\n",
        "nlp = spacy.load(\"en_core_web_sm\")\n",
        "\n",
        "def preprocess_text(text):\n",
        "    \"\"\"Converts text to lowercase and removes stopwords.\"\"\"\n",
        "\n",
        "    # Convert text to lowercase using spaCy\n",
        "    doc = nlp(text)\n",
        "    lowercased_text = \" \".join([token.text.lower() for token in doc])\n",
        "\n",
        "    # Remove stopwords using NLTK\n",
        "    tokens = nltk.word_tokenize(lowercased_text)\n",
        "    stop_words = set(nltk.corpus.stopwords.words('english'))\n",
        "    filtered_tokens = [token for token in tokens if token.lower() not in stop_words]\n",
        "\n",
        "    # Join filtered tokens back into a string\n",
        "    preprocessed_text = \" \".join(filtered_tokens)\n",
        "\n",
        "    return preprocessed_text\n",
        "\n",
        "# Example usage\n",
        "text = \"This is an example sentence with some stopwords.\"\n",
        "preprocessed_text = preprocess_text(text)\n",
        "print(preprocessed_text)  # Output: example sentence stopwords.\n",
        "\n"
      ],
      "metadata": {
        "colab": {
          "base_uri": "https://localhost:8080/"
        },
        "id": "AhIxlxe4eAJ4",
        "outputId": "f4d24733-c706-475b-a456-7f12d32a3ad7"
      },
      "execution_count": 4,
      "outputs": [
        {
          "output_type": "stream",
          "name": "stderr",
          "text": [
            "[nltk_data] Downloading package punkt to /root/nltk_data...\n",
            "[nltk_data]   Package punkt is already up-to-date!\n",
            "[nltk_data] Downloading package stopwords to /root/nltk_data...\n",
            "[nltk_data]   Package stopwords is already up-to-date!\n",
            "[nltk_data] Downloading package punkt_tab to /root/nltk_data...\n",
            "[nltk_data]   Unzipping tokenizers/punkt_tab.zip.\n"
          ]
        },
        {
          "output_type": "stream",
          "name": "stdout",
          "text": [
            "example sentence stopwords .\n"
          ]
        }
      ]
    }
  ]
}