{
 "cells": [
  {
   "cell_type": "code",
   "execution_count": null,
   "id": "9ee01621-6d98-4b26-a9e9-0ecaeb009d8b",
   "metadata": {},
   "outputs": [],
   "source": []
  }
 ],
 "metadata": {
  "kernelspec": {
   "display_name": "",
   "name": ""
  },
  "language_info": {
   "name": ""
  }
 },
 "nbformat": 4,
 "nbformat_minor": 5
}
