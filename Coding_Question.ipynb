{
  "nbformat": 4,
  "nbformat_minor": 0,
  "metadata": {
    "colab": {
      "provenance": [],
      "authorship_tag": "ABX9TyNKLEBc7omdK6ukjBexLhuU",
      "include_colab_link": true
    },
    "kernelspec": {
      "name": "python3",
      "display_name": "Python 3"
    },
    "language_info": {
      "name": "python"
    }
  },
  "cells": [
    {
      "cell_type": "markdown",
      "metadata": {
        "id": "view-in-github",
        "colab_type": "text"
      },
      "source": [
        "<a href=\"https://colab.research.google.com/github/saketh0641/Saketh-s-Repo./blob/main/Coding_Question.ipynb\" target=\"_parent\"><img src=\"https://colab.research.google.com/assets/colab-badge.svg\" alt=\"Open In Colab\"/></a>"
      ]
    },
    {
      "cell_type": "code",
      "source": [
        "from sklearn.feature_extraction.text import CountVectorizer, TfidfVectorizer\n",
        "\n",
        "# Input text\n",
        "corpus = [\n",
        "    \"I love machine learning\",\n",
        "    \"Machine learning is fun\",\n",
        "    \"Deep learning is amazing\"\n",
        "]\n",
        "\n",
        "# Convert the corpus to Bag of Words (BoW) representation\n",
        "count_vectorizer = CountVectorizer()\n",
        "bow_matrix = count_vectorizer.fit_transform(corpus)\n",
        "\n",
        "# Display the BoW representation\n",
        "print(\"Bag of Words (BoW) Representation:\")\n",
        "print(bow_matrix.toarray())  # Convert to array for easy viewing\n",
        "print(\"Feature Names (BoW):\", count_vectorizer.get_feature_names_out())\n",
        "\n",
        "# Compute the TF-IDF representation\n",
        "tfidf_vectorizer = TfidfVectorizer()\n",
        "tfidf_matrix = tfidf_vectorizer.fit_transform(corpus)\n",
        "\n",
        "# Display the TF-IDF representation\n",
        "print(\"\\nTF-IDF Representation:\")\n",
        "print(tfidf_matrix.toarray())  # Convert to array for easy viewing\n",
        "print(\"Feature Names (TF-IDF):\", tfidf_vectorizer.get_feature_names_out())\n"
      ],
      "metadata": {
        "colab": {
          "base_uri": "https://localhost:8080/"
        },
        "id": "AQlao4HIb4eL",
        "outputId": "08c6ee41-4d7b-4fa7-83f7-f60ce11fc54c"
      },
      "execution_count": 14,
      "outputs": [
        {
          "output_type": "stream",
          "name": "stdout",
          "text": [
            "Bag of Words (BoW) Representation:\n",
            "[[0 0 0 0 1 1 1]\n",
            " [0 0 1 1 1 0 1]\n",
            " [1 1 0 1 1 0 0]]\n",
            "Feature Names (BoW): ['amazing' 'deep' 'fun' 'is' 'learning' 'love' 'machine']\n",
            "\n",
            "TF-IDF Representation:\n",
            "[[0.         0.         0.         0.         0.42544054 0.72033345\n",
            "  0.54783215]\n",
            " [0.         0.         0.63174505 0.4804584  0.37311881 0.\n",
            "  0.4804584 ]\n",
            " [0.5844829  0.5844829  0.         0.44451431 0.34520502 0.\n",
            "  0.        ]]\n",
            "Feature Names (TF-IDF): ['amazing' 'deep' 'fun' 'is' 'learning' 'love' 'machine']\n"
          ]
        }
      ]
    },
    {
      "cell_type": "code",
      "source": [],
      "metadata": {
        "id": "3Xo-wevDcX2l"
      },
      "execution_count": null,
      "outputs": []
    }
  ]
}