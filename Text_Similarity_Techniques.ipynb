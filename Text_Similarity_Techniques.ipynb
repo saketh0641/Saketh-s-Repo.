{
  "nbformat": 4,
  "nbformat_minor": 0,
  "metadata": {
    "colab": {
      "provenance": [],
      "authorship_tag": "ABX9TyOEHvr2bNEqXUd27ZU963hv",
      "include_colab_link": true
    },
    "kernelspec": {
      "name": "python3",
      "display_name": "Python 3"
    },
    "language_info": {
      "name": "python"
    }
  },
  "cells": [
    {
      "cell_type": "markdown",
      "metadata": {
        "id": "view-in-github",
        "colab_type": "text"
      },
      "source": [
        "<a href=\"https://colab.research.google.com/github/saketh0641/Saketh-s-Repo./blob/main/Text_Similarity_Techniques.ipynb\" target=\"_parent\"><img src=\"https://colab.research.google.com/assets/colab-badge.svg\" alt=\"Open In Colab\"/></a>"
      ]
    },
    {
      "cell_type": "code",
      "source": [
        "from sklearn.feature_extraction.text import TfidfVectorizer\n",
        "from sklearn.metrics.pairwise import cosine_similarity\n",
        "\n",
        "def calculate_cosine_similarity(text1, text2):\n",
        "    # Create a TfidfVectorizer\n",
        "    vectorizer = TfidfVectorizer()\n",
        "\n",
        "    # Transform the text into TF-IDF vectors\n",
        "    tfidf_matrix = vectorizer.fit_transform([text1, text2])\n",
        "\n",
        "    # Calculate the cosine similarity between the two vectors\n",
        "    similarity_matrix = cosine_similarity(tfidf_matrix[0:1], tfidf_matrix[1:2])\n",
        "\n",
        "    # Return the cosine similarity value\n",
        "    return similarity_matrix[0][0]\n",
        "\n",
        "# Example usage\n",
        "text1 = \"Data science is an inter-disciplinary field that uses scientific methods.\"\n",
        "text2 = \"Machine learning is a branch of data science that focuses on algorithms.\"\n",
        "\n",
        "similarity = calculate_cosine_similarity(text1, text2)\n",
        "\n",
        "print(f\"Cosine Similarity: {similarity:.4f}\")\n"
      ],
      "metadata": {
        "colab": {
          "base_uri": "https://localhost:8080/"
        },
        "id": "M09D49d-Ztzb",
        "outputId": "669edf95-1b1a-4684-a1a6-fb1df2004f21"
      },
      "execution_count": 10,
      "outputs": [
        {
          "output_type": "stream",
          "name": "stdout",
          "text": [
            "Cosine Similarity: 0.2244\n"
          ]
        }
      ]
    },
    {
      "cell_type": "code",
      "source": [],
      "metadata": {
        "id": "V0ZWbU3caer_"
      },
      "execution_count": null,
      "outputs": []
    }
  ]
}