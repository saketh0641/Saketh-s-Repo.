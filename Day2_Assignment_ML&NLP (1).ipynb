{
 "cells": [
  {
   "cell_type": "code",
   "execution_count": 1,
   "id": "4c55d11b-1779-4401-aff5-2385c2b85e33",
   "metadata": {},
   "outputs": [
    {
     "name": "stdout",
     "output_type": "stream",
     "text": [
      "10\n",
      "40\n",
      "50\n"
     ]
    }
   ],
   "source": [
    "my_list = [10, 20, 30, 40, 50]\n",
    "\n",
    "# Accessing elements by index\n",
    "print(my_list[0])  # Output: 10 (first element)\n",
    "print(my_list[3])  # Output: 40 (fourth element)\n",
    "print(my_list[-1]) # Output: 50 (last element)"
   ]
  },
  {
   "cell_type": "code",
   "execution_count": 3,
   "id": "e6e61a89-3d37-4f22-8b57-852528426fcf",
   "metadata": {},
   "outputs": [
    {
     "name": "stdout",
     "output_type": "stream",
     "text": [
      "200\n",
      "500\n",
      "400\n"
     ]
    }
   ],
   "source": [
    "my_tuple = (100, 200, 300, 400, 500)\n",
    "\n",
    "# Accessing elements by index\n",
    "print(my_tuple[1])  # Output: 200 (second element)\n",
    "print(my_tuple[4])  # Output: 500 (fifth element)\n",
    "print(my_tuple[-2]) # Output: 400 (second-to-last element)\n"
   ]
  },
  {
   "cell_type": "code",
   "execution_count": 5,
   "id": "1d0948d4-cb15-4632-929d-b066658e3f81",
   "metadata": {},
   "outputs": [
    {
     "name": "stdout",
     "output_type": "stream",
     "text": [
      "1\n",
      "3\n",
      "5\n"
     ]
    }
   ],
   "source": [
    "my_dict = {'a': 1, 'b': 2, 'c': 3, 'd': 4, 'e': 5}\n",
    "\n",
    "# Accessing elements by key\n",
    "print(my_dict['a'])  # Output: 1\n",
    "print(my_dict['c'])  # Output: 3\n",
    "print(my_dict['e'])  # Output: 5\n"
   ]
  },
  {
   "cell_type": "code",
   "execution_count": null,
   "id": "c9c4313d-64b0-4ea6-b9f9-2109fa4dd4ad",
   "metadata": {},
   "outputs": [],
   "source": []
  }
 ],
 "metadata": {
  "kernelspec": {
   "display_name": "Python [conda env:base] *",
   "language": "python",
   "name": "conda-base-py"
  },
  "language_info": {
   "codemirror_mode": {
    "name": "ipython",
    "version": 3
   },
   "file_extension": ".py",
   "mimetype": "text/x-python",
   "name": "python",
   "nbconvert_exporter": "python",
   "pygments_lexer": "ipython3",
   "version": "3.12.7"
  }
 },
 "nbformat": 4,
 "nbformat_minor": 5
}
